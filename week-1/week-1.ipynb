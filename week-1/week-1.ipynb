{
 "cells": [
  {
   "cell_type": "code",
   "execution_count": null,
   "id": "1ca3e816",
   "metadata": {},
   "outputs": [],
   "source": [
    "var1 = 50\n",
    "var2 = 25\n",
    "\n",
    "gun = 'sali'\n",
    "\n",
    "var3 = 25.0"
   ]
  },
  {
   "cell_type": "code",
   "execution_count": 11,
   "id": "cbcde9dd",
   "metadata": {},
   "outputs": [
    {
     "name": "stdout",
     "output_type": "stream",
     "text": [
      "1\n",
      "6\n",
      "[1, 2, 3]\n",
      "[1, 2, 3, 4, 5, 6, 7]\n",
      "[1, 2, 3, 4, 5, 6]\n",
      "[6, 5, 4, 3, 2, 1]\n",
      "[1, 2, 3, 4, 5, 6]\n",
      "['huseyin', 'unlu', 11, 1, 1999]\n"
     ]
    }
   ],
   "source": [
    "var1 = 50\n",
    "var2 = 25\n",
    "var3 = 25\n",
    "\n",
    "list_int = [1,2,3,4,5,6]\n",
    "\n",
    "type(list_int)\n",
    "\n",
    "list_str = ['pazartesi', 'sali', 'carsamba', 'persembe', 'cuma']\n",
    "type(list_str)\n",
    "\n",
    "value = list_int[0]\n",
    "print(value)\n",
    "\n",
    "value1 = list_int[-1]\n",
    "print(value1)\n",
    "\n",
    "list_divide = list_int[0:3]\n",
    "print(list_divide)\n",
    "\n",
    "#dir(list_int)\n",
    "\n",
    "#help(list_int)\n",
    "\n",
    "list_int.append(7)\n",
    "print(list_int)\n",
    "\n",
    "list_int.remove(7)\n",
    "print(list_int)\n",
    "\n",
    "list_int.reverse()\n",
    "print(list_int)\n",
    "\n",
    "list_yeni = [3,5,2,6,1,4]\n",
    "list_yeni.sort()\n",
    "print(list_yeni)\n",
    "\n",
    "string_int_list = ['huseyin', 'unlu', 11,1,1999]\n",
    "print(string_int_list)\n"
   ]
  },
  {
   "cell_type": "code",
   "execution_count": 18,
   "id": "8fd7d966",
   "metadata": {},
   "outputs": [
    {
     "name": "stdout",
     "output_type": "stream",
     "text": [
      "1\n",
      "2\n",
      "3\n",
      "4\n",
      "5\n",
      "6\n",
      "7\n",
      "8\n",
      "9\n",
      "10\n",
      "h\n",
      "u\n",
      "s\n",
      "e\n",
      "y\n",
      "i\n",
      "n\n",
      "225\n",
      "2\n",
      "2\n"
     ]
    }
   ],
   "source": [
    "for i in range(1,11):\n",
    "    print(i)\n",
    "\n",
    "for c in \"huseyin\":\n",
    "    print(c)\n",
    "    \n",
    "list_ = [88,4,6,8,3,5,9,2,43,57]\n",
    "\n",
    "print(sum(list_))\n",
    "\n",
    "print(min(list_))\n",
    "\n",
    "minimum = 99999999999\n",
    "for i in list_:\n",
    "    if(i<minimum):\n",
    "        minimum = i\n",
    "    else:\n",
    "        continue\n",
    "\n",
    "print(minimum)"
   ]
  },
  {
   "cell_type": "code",
   "execution_count": 24,
   "id": "2883b1c4",
   "metadata": {},
   "outputs": [
    {
     "name": "stdout",
     "output_type": "stream",
     "text": [
      "var2 buyuktur\n",
      "value değeri 3 listenin içindedir.\n"
     ]
    }
   ],
   "source": [
    "1==1\n",
    "1==2\n",
    "1!=1\n",
    "True==True\n",
    "False==True\n",
    "1>0 and 4<5\n",
    "1>0 or 4<3\n",
    "\n",
    "var1=10\n",
    "var2=20\n",
    "\n",
    "if(var1>var2):\n",
    "    print('var1 buyuktur')\n",
    "elif var1 == var2:\n",
    "    print('var1 ve var2 esittr')\n",
    "else:\n",
    "    print('var2 buyuktur')\n",
    "    \n",
    "list_ = [1,2,3,4,5]\n",
    "\n",
    "value = 3\n",
    "\n",
    "if value in list_:\n",
    "    print(\"value değeri {} listenin içindedir.\".format(value))\n",
    "else:\n",
    "    print(\"value değeri {} listenin içinde değildir.\".format(value))"
   ]
  },
  {
   "cell_type": "code",
   "execution_count": 25,
   "id": "b5a22889",
   "metadata": {},
   "outputs": [
    {
     "name": "stdout",
     "output_type": "stream",
     "text": [
      "0\n",
      "1\n",
      "2\n",
      "3\n"
     ]
    }
   ],
   "source": [
    "i=0 \n",
    "\n",
    "while (i<4):\n",
    "    \n",
    "    print(i)\n",
    "    \n",
    "    i = i+1"
   ]
  },
  {
   "cell_type": "code",
   "execution_count": 27,
   "id": "2f680af1",
   "metadata": {},
   "outputs": [
    {
     "data": {
      "text/plain": [
       "18.84"
      ]
     },
     "execution_count": 27,
     "metadata": {},
     "output_type": "execute_result"
    }
   ],
   "source": [
    "def cember_cevre(r,pi=3.14): \n",
    "    output = 2*pi*r\n",
    "    \n",
    "    return output\n",
    "\n",
    "cember_cevre(3)"
   ]
  },
  {
   "cell_type": "code",
   "execution_count": 28,
   "id": "40c37a4d",
   "metadata": {},
   "outputs": [
    {
     "name": "stdout",
     "output_type": "stream",
     "text": [
      "9\n",
      "9\n"
     ]
    },
    {
     "data": {
      "text/plain": [
       "9"
      ]
     },
     "execution_count": 28,
     "metadata": {},
     "output_type": "execute_result"
    }
   ],
   "source": [
    "def hesapla(x):\n",
    "    output= x*x\n",
    "    return output\n",
    "\n",
    "sonuc = hesapla(3)\n",
    "\n",
    "sonuc2 = lambda x: x*x \n",
    "\n",
    "print(sonuc)\n",
    "print(sonuc2(3)) \n",
    "\n",
    "y = 3\n",
    "\n",
    "z = lambda x:x*y\n",
    "\n",
    "z(3)"
   ]
  },
  {
   "cell_type": "code",
   "execution_count": 32,
   "id": "5e36fd5a",
   "metadata": {},
   "outputs": [
    {
     "data": {
      "text/plain": [
       "22"
      ]
     },
     "execution_count": 32,
     "metadata": {},
     "output_type": "execute_result"
    }
   ],
   "source": [
    "dictionary = {\"huseyin\":22, \"mehmet\":34, \"kamil\":24}\n",
    "type(dictionary)\n",
    "dictionary['huseyin']\n",
    "\n",
    "type(dictionary['huseyin'])\n",
    "\n",
    "dictionary.keys()\n",
    "dictionary.values()\n",
    "\n",
    "def deneme():\n",
    "    return {\"huseyin\":22, \"mehmet\":34, \"kamil\":24}\n",
    "dic = deneme()\n",
    "\n",
    "dic['huseyin']"
   ]
  },
  {
   "cell_type": "code",
   "execution_count": 33,
   "id": "16cecff6",
   "metadata": {},
   "outputs": [
    {
     "name": "stdout",
     "output_type": "stream",
     "text": [
      "evet\n"
     ]
    }
   ],
   "source": [
    "dictionary = {\"huseyin\":22, \"mehmet\":34, \"kamil\":24}\n",
    "keys = dictionary.keys()\n",
    "\n",
    "if 'huseyin' in keys:\n",
    "    print('evet')\n",
    "else:\n",
    "    print('hayir')"
   ]
  }
 ],
 "metadata": {
  "kernelspec": {
   "display_name": "Python 3 (ipykernel)",
   "language": "python",
   "name": "python3"
  },
  "language_info": {
   "codemirror_mode": {
    "name": "ipython",
    "version": 3
   },
   "file_extension": ".py",
   "mimetype": "text/x-python",
   "name": "python",
   "nbconvert_exporter": "python",
   "pygments_lexer": "ipython3",
   "version": "3.8.10"
  }
 },
 "nbformat": 4,
 "nbformat_minor": 5
}
